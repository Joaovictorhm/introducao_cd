{
 "cells": [
  {
   "cell_type": "markdown",
   "metadata": {},
   "source": [
    "# Introdução à Ciência de Dados - UFPB\n",
    "Professor: Yuri Malheiros\n",
    "\n",
    "Aluno: João Victor Henrique De Macedo\n",
    "## Python - Random - Exercício"
   ]
  },
  {
   "cell_type": "markdown",
   "metadata": {},
   "source": [
    "Implemente a função `generate_password` que deve gerar uma senha aleatória.\n",
    "\n",
    "A função tem tres parâmetros:\n",
    "\n",
    "- `n_chars` especifica o tamanho da senha gerada\n",
    "- `use_numbers` especifica se números podem ser usados na senha. Por padrão, esse parâmetro tem valor True\n",
    "- `use_special_chars` especifica se caracteres especiais, por exemplo !#%&@?, pode ser usados na senha. Por padrão, esse parâmetro tem valor True\n",
    "\n",
    "Note que se `use_numbers` e `use_special_chars` tiverem valor False, a senha terá apenas letras maiúsculas ou minúsculas."
   ]
  },
  {
   "cell_type": "code",
   "execution_count": 3,
   "metadata": {},
   "outputs": [],
   "source": [
    "import random\n",
    "import string\n",
    "def generate_password(n_chars, use_numbers=True, use_special_chars=True):\n",
    "    # ADICIONE O SEU CÓDIGO AQUI\n",
    "    alfabeto = string.ascii_letters # letras maiusculas e minusculas\n",
    "    especiais = string.punctuation # caracters especiais\n",
    "    numeros = string.digits #numeros de 1 a 9\n",
    "    senha = \"\"\n",
    "    \n",
    "    \n",
    "    if((use_numbers == True) and (use_special_chars == True)):\n",
    "        for i in range(n_chars):\n",
    "            sort_alfabeto = random.choice(alfabeto)\n",
    "            sort_especiais = random.choice(especiais)\n",
    "            sort_numeros = random.choice(numeros)\n",
    "            lista_senha = [sort_alfabeto,sort_especiais,sort_numeros]\n",
    "            x=len(lista_senha)\n",
    "            sorteio = random.randrange(0,x)\n",
    "            senha += lista_senha[sorteio]\n",
    "            \n",
    "            \n",
    "    elif((use_numbers == False) and (use_special_chars == True)):\n",
    "        for i in range(n_chars):\n",
    "            sort_alfabeto = random.choice(alfabeto)\n",
    "            sort_especiais = random.choice(especiais)\n",
    "            lista_senha = [sort_alfabeto,sort_especiais]\n",
    "            x=len(lista_senha)\n",
    "            sorteio = random.randrange(0,x)\n",
    "            senha += lista_senha[sorteio]\n",
    "    \n",
    "    \n",
    "    else:\n",
    "        for i in range(n_chars):\n",
    "            sort_alfabeto = random.choice(alfabeto)\n",
    "            lista_senha = [sort_alfabeto]\n",
    "            x=len(lista_senha)\n",
    "            sorteio = random.randrange(0,x)\n",
    "            senha += lista_senha[sorteio]\n",
    "            \n",
    "            \n",
    "    return senha"
   ]
  },
  {
   "cell_type": "code",
   "execution_count": 4,
   "metadata": {},
   "outputs": [
    {
     "name": "stdout",
     "output_type": "stream",
     "text": [
      "33c@k70b~J\n",
      "VT_yG*'?<Y\n",
      "LIWxfVBoXj\n"
     ]
    }
   ],
   "source": [
    "print(generate_password(10))\n",
    "print(generate_password(10, use_numbers=False))\n",
    "print(generate_password(10, use_numbers=False, use_special_chars=False))"
   ]
  },
  {
   "cell_type": "code",
   "execution_count": null,
   "metadata": {},
   "outputs": [],
   "source": []
  }
 ],
 "metadata": {
  "kernelspec": {
   "display_name": "Python 3",
   "language": "python",
   "name": "python3"
  },
  "language_info": {
   "codemirror_mode": {
    "name": "ipython",
    "version": 3
   },
   "file_extension": ".py",
   "mimetype": "text/x-python",
   "name": "python",
   "nbconvert_exporter": "python",
   "pygments_lexer": "ipython3",
   "version": "3.9.1"
  }
 },
 "nbformat": 4,
 "nbformat_minor": 4
}
